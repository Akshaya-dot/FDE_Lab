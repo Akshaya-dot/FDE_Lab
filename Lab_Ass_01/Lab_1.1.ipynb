{
 "cells": [
  {
   "cell_type": "code",
   "execution_count": null,
   "id": "b6adcfdd-ecf7-4f47-baa3-065cbcd2f416",
   "metadata": {},
   "outputs": [
    {
     "name": "stdout",
     "output_type": "stream",
     "text": [
      "Dataset saved to student_dataset.csv\n"
     ]
    },
    {
     "name": "stderr",
     "output_type": "stream",
     "text": [
      "C:\\Users\\vicky\\AppData\\Local\\Temp\\ipykernel_27112\\2918791208.py:40: MatplotlibDeprecationWarning: The 'labels' parameter of boxplot() has been renamed 'tick_labels' since Matplotlib 3.9; support for the old name will be dropped in 3.11.\n",
      "  plt.boxplot(df[features_to_normalize].values, labels=features_to_normalize)\n",
      "C:\\Users\\vicky\\AppData\\Local\\Temp\\ipykernel_27112\\2918791208.py:46: MatplotlibDeprecationWarning: The 'labels' parameter of boxplot() has been renamed 'tick_labels' since Matplotlib 3.9; support for the old name will be dropped in 3.11.\n",
      "  plt.boxplot(df_normalized[features_to_normalize].values, labels=features_to_normalize)\n"
     ]
    }
   ],
   "source": [
    "import numpy as np\n",
    "import pandas as pd\n",
    "import matplotlib.pyplot as plt\n",
    "from sklearn.preprocessing import MinMaxScaler\n",
    "\n",
    "# 1. Generate synthetic data\n",
    "np.random.seed(42)\n",
    "n_samples = 25\n",
    "roll_numbers = np.arange(1, n_samples + 1)\n",
    "\n",
    "# Create features\n",
    "data = {\n",
    "'Roll No.': roll_numbers,\n",
    "'Age': np.random.randint(21, 26, n_samples),\n",
    "'Attendance (%)': np.random.randint(75, 101, n_samples),\n",
    "'Study Hours/Week': np.random.randint(14, 41, n_samples),\n",
    "'CGPA': np.round(np.random.uniform(7.0, 10.0, n_samples), 2),\n",
    "'Assignments Submitted (%)': np.random.randint(60, 101, n_samples)\n",
    "}\n",
    "df = pd.DataFrame(data)\n",
    "\n",
    "# 2. Save to CSV\n",
    "df.to_csv(\"student_dataset.csv\", index=False)\n",
    "print(\"Dataset saved to student_dataset.csv\")\n",
    "\n",
    "# 3. Normalize data (excluding Roll No.)\n",
    "features_to_normalize = df.columns.difference(['Roll No.'])\n",
    "scaler = MinMaxScaler()\n",
    "normalized_values = scaler.fit_transform(df[features_to_normalize])\n",
    "# Combine normalized data with Roll No.\n",
    "df_normalized = pd.concat(\n",
    "[df[['Roll No.']], pd.DataFrame(normalized_values, columns=features_to_normalize)],\n",
    "axis=1\n",
    ")\n",
    "\n",
    "# 4. Plot before and after normalization (excluding Roll No.)\n",
    "plt.figure(figsize=(12, 5))\n",
    "# Before normalization\n",
    "plt.subplot(1, 2, 1)\n",
    "plt.boxplot(df[features_to_normalize].values, labels=features_to_normalize)\n",
    "plt.title(\"Before Normalization\")\n",
    "plt.xticks(rotation=45)\n",
    "\n",
    "# After normalization\n",
    "plt.subplot(1, 2, 2)\n",
    "plt.boxplot(df_normalized[features_to_normalize].values, labels=features_to_normalize)\n",
    "plt.title(\"After Min-Max Normalization\")\n",
    "plt.xticks(rotation=45)\n",
    "plt.tight_layout()\n",
    "plt.show() "
   ]
  },
  {
   "cell_type": "code",
   "execution_count": null,
   "id": "f62a42fb-1de6-478d-9736-97e1ef960603",
   "metadata": {},
   "outputs": [],
   "source": [
    "# 1. Generate synthetic data\n",
    "np.random.seed(42)\n",
    "n_samples = 25\n",
    "roll_numbers = np.arange(1, n_samples + 1)\n"
   ]
  },
  {
   "cell_type": "code",
   "execution_count": null,
   "id": "9c83774a-6dc2-48b5-9241-6098a22fcd21",
   "metadata": {},
   "outputs": [],
   "source": [
    "# Create features\n",
    "data = {\n",
    "'Roll No.': roll_numbers,\n",
    "'Age': np.random.randint(21, 26, n_samples),\n",
    "'Attendance (%)': np.random.randint(75, 101, n_samples),\n",
    "'Study Hours/Week': np.random.randint(14, 41, n_samples),\n",
    "'CGPA': np.round(np.random.uniform(7.0, 10.0, n_samples), 2),\n",
    "'Assignments Submitted (%)': np.random.randint(60, 101, n_samples)\n",
    "}\n",
    "df = pd.DataFrame(data)"
   ]
  },
  {
   "cell_type": "code",
   "execution_count": null,
   "id": "9cb83e82-3f3e-4ee5-ab10-bbca93e4b1cb",
   "metadata": {},
   "outputs": [],
   "source": [
    "# 2. Save to CSV\n",
    "df.to_csv(\"student_dataset.csv\", index=False)\n",
    "print(\"Dataset saved to student_dataset.csv\")"
   ]
  },
  {
   "cell_type": "code",
   "execution_count": null,
   "id": "d54c36e8-bd3b-44f8-aa60-d527b59567bd",
   "metadata": {},
   "outputs": [],
   "source": [
    "# 3. Normalize data (excluding Roll No.)\n",
    "features_to_normalize = df.columns.difference(['Roll No.'])\n",
    "scaler = MinMaxScaler()\n",
    "normalized_values = scaler.fit_transform(df[features_to_normalize])\n",
    "# Combine normalized data with Roll No.\n",
    "df_normalized = pd.concat(\n",
    "[df[['Roll No.']], pd.DataFrame(normalized_values, columns=features_to_normalize)],\n",
    "axis=1\n",
    ")"
   ]
  },
  {
   "cell_type": "code",
   "execution_count": null,
   "id": "fe47b7b4-e2da-4755-ad18-6a5026f5d794",
   "metadata": {},
   "outputs": [],
   "source": [
    "# 4. Plot before and after normalization (excluding Roll No.)\n",
    "plt.figure(figsize=(12, 5))\n",
    "# Before normalization\n",
    "plt.subplot(1, 2, 1)\n",
    "plt.boxplot(df[features_to_normalize].values, labels=features_to_normalize)\n",
    "plt.title(\"Before Normalization\")\n",
    "plt.xticks(rotation=45)\n"
   ]
  },
  {
   "cell_type": "code",
   "execution_count": null,
   "id": "3f5f31fe-41a3-410c-8068-4276de92942d",
   "metadata": {},
   "outputs": [],
   "source": [
    "# After normalization\n",
    "plt.subplot(1, 2, 2)\n",
    "plt.boxplot(df_normalized[features_to_normalize].values, labels=features_to_normalize)\n",
    "plt.title(\"After Min-Max Normalization\")\n",
    "plt.xticks(rotation=45)\n",
    "plt.tight_layout()\n",
    "plt.show() "
   ]
  }
 ],
 "metadata": {
  "kernelspec": {
   "display_name": "Python 3 (ipykernel)",
   "language": "python",
   "name": "python3"
  },
  "language_info": {
   "codemirror_mode": {
    "name": "ipython",
    "version": 3
   },
   "file_extension": ".py",
   "mimetype": "text/x-python",
   "name": "python",
   "nbconvert_exporter": "python",
   "pygments_lexer": "ipython3",
   "version": "3.13.5"
  }
 },
 "nbformat": 4,
 "nbformat_minor": 5
}
