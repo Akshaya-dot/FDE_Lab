{
 "cells": [
  {
   "cell_type": "code",
   "execution_count": null,
   "id": "968f291b-02b5-4ae9-8056-53340cf7ee07",
   "metadata": {},
   "outputs": [],
   "source": [
    "import numpy as np\n",
    "import matplotlib.pyplot as plt"
   ]
  },
  {
   "cell_type": "code",
   "execution_count": null,
   "id": "cbba5c03-aacf-4b2a-9858-57653c65e496",
   "metadata": {},
   "outputs": [],
   "source": [
    "# Number of samples\n",
    "n = 100000"
   ]
  },
  {
   "cell_type": "code",
   "execution_count": null,
   "id": "5980b19e-02b8-4fab-9aa0-ea2681d16875",
   "metadata": {},
   "outputs": [],
   "source": [
    "# Case I: X1, X2 ~ Uniform(0, 1)\n",
    "x1 = np.random.uniform(0, 1, n)\n",
    "x2 = np.random.uniform(0, 1, n)\n",
    "z1 = x1 + x2\n",
    "\n",
    "# Case II: X1, X2 ~ Normal(0, 1)\n",
    "x3 = np.random.normal(0, 1, n)\n",
    "x4 = np.random.normal(0, 1, n)\n",
    "z2 = x3 + x4\n",
    "\n",
    "# Case III: X1 ~ Uniform(0,1), X2 ~ Uniform(0,2)\n",
    "x5 = np.random.uniform(0, 1, n)\n",
    "x6 = np.random.uniform(0, 2, n)\n",
    "z3 = x5 + x6"
   ]
  }
 ],
 "metadata": {
  "kernelspec": {
   "display_name": "Python 3 (ipykernel)",
   "language": "python",
   "name": "python3"
  },
  "language_info": {
   "codemirror_mode": {
    "name": "ipython",
    "version": 3
   },
   "file_extension": ".py",
   "mimetype": "text/x-python",
   "name": "python",
   "nbconvert_exporter": "python",
   "pygments_lexer": "ipython3",
   "version": "3.13.5"
  }
 },
 "nbformat": 4,
 "nbformat_minor": 5
}
