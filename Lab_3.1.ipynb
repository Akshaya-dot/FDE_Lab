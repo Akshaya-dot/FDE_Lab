{
 "cells": [
  {
   "cell_type": "code",
   "execution_count": 3,
   "id": "c145f2f2-5985-41d1-ba68-0bb86d296ed0",
   "metadata": {},
   "outputs": [],
   "source": [
    "import numpy as np\n",
    "import matplotlib.pyplot as plt\n",
    "from scipy.stats import norm, uniform, expon"
   ]
  },
  {
   "cell_type": "code",
   "execution_count": 4,
   "id": "1fddadf5-1ff1-46ad-99e0-2966c108fb29",
   "metadata": {},
   "outputs": [],
   "source": [
    "# Define range of values\n",
    "x = np.linspace(-5, 5, 500)   # For normal\n",
    "x_pos = np.linspace(0, 5, 500)  # For exponential\n",
    "x_uni = np.linspace(0, 1, 500)  # For uniform\n",
    "p = np.linspace(0.01, 0.99, 500)  # Probabilities for PPF"
   ]
  },
  {
   "cell_type": "code",
   "execution_count": 5,
   "id": "0cc34c13-a4db-4eae-a49a-ea31df4e073d",
   "metadata": {},
   "outputs": [
    {
     "ename": "SyntaxError",
     "evalue": "unterminated string literal (detected at line 3) (4073118932.py, line 3)",
     "output_type": "error",
     "traceback": [
      "  \u001b[36mCell\u001b[39m\u001b[36m \u001b[39m\u001b[32mIn[5]\u001b[39m\u001b[32m, line 3\u001b[39m\n\u001b[31m    \u001b[39m\u001b[31mfig.suptitle(\"PDF, CDF and PPF for Normal, Uniform\u001b[39m\n                 ^\n\u001b[31mSyntaxError\u001b[39m\u001b[31m:\u001b[39m unterminated string literal (detected at line 3)\n"
     ]
    }
   ],
   "source": [
    "\n",
    "# Create subplots\n",
    "fig, axes = plt.subplots(3, 3, figsize=(12, 10))\n",
    "fig.suptitle(\"PDF, CDF and PPF for Normal, Uniform and ExponentialDistributions\", fontsize=14, y=1.02)\n",
    "\n",
    "# --- Normal Distribution ---\n",
    "axes[0,0].plot(x, norm.pdf(x, 0, 1), label=\"PDF\")\n",
    "axes[0,1].plot(x, norm.cdf(x, 0, 1), label=\"CDF\")\n",
    "axes[0,2].plot(p, norm.ppf(p, 0, 1), label=\"PPF\")\n",
    "\n",
    "axes[0,0].set_title(\"Normal PDF\")\n",
    "axes[0,1].set_title(\"Normal CDF\")\n",
    "axes[0,2].set_title(\"Normal PPF\")\n",
    "\n",
    "# --- Uniform Distribution ---\n",
    "axes[1,0].plot(x_uni, uniform.pdf(x_uni, 0, 1), label=\"PDF\")\n",
    "axes[1,1].plot(x_uni, uniform.cdf(x_uni, 0, 1), label=\"CDF\")\n",
    "axes[1,2].plot(p, uniform.ppf(p, 0, 1), label=\"PPF\")\n",
    "\n",
    "axes[1,0].set_title(\"Uniform PDF\")\n",
    "axes[1,1].set_title(\"Uniform CDF\")\n",
    "axes[1,2].set_title(\"Uniform PPF\")\n",
    "\n",
    "# --- Exponential Distribution ---\n",
    "axes[2,0].plot(x_pos, expon.pdf(x_pos, 0, 1), label=\"PDF\")\n",
    "axes[2,1].plot(x_pos, expon.cdf(x_pos, 0, 1), label=\"CDF\")\n",
    "axes[2,2].plot(p, expon.ppf(p, 0, 1), label=\"PPF\")\n",
    "\n",
    "axes[2,0].set_title(\"Exponential PDF\")\n",
    "axes[2,1].set_title(\"Exponential CDF\")\n",
    "axes[2,2].set_title(\"Exponential PPF\")"
   ]
  },
  {
   "cell_type": "code",
   "execution_count": null,
   "id": "85818d21-636b-43e4-bbba-fea59c30f805",
   "metadata": {},
   "outputs": [],
   "source": [
    "# Beautify plots\n",
    "for row in axes:\n",
    "    for ax in row:\n",
    "        ax.legend()\n",
    "        ax.grid(True)\n",
    "\n",
    "plt.tight_layout()\n",
    "plt.show()"
   ]
  }
 ],
 "metadata": {
  "kernelspec": {
   "display_name": "Python 3 (ipykernel)",
   "language": "python",
   "name": "python3"
  },
  "language_info": {
   "codemirror_mode": {
    "name": "ipython",
    "version": 3
   },
   "file_extension": ".py",
   "mimetype": "text/x-python",
   "name": "python",
   "nbconvert_exporter": "python",
   "pygments_lexer": "ipython3",
   "version": "3.13.5"
  }
 },
 "nbformat": 4,
 "nbformat_minor": 5
}
