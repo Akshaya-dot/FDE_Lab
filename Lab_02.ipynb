{
 "cells": [
  {
   "cell_type": "code",
   "execution_count": null,
   "id": "1755b849-b859-4669-bb36-d12cfd549293",
   "metadata": {},
   "outputs": [],
   "source": [
    "import numpy as np\n",
    "import pandas as pd\n",
    "import matplotlib.pyplot as plt"
   ]
  },
  {
   "cell_type": "code",
   "execution_count": null,
   "id": "3e277f78-7ce5-40d5-beb9-d3705c0e6f84",
   "metadata": {},
   "outputs": [],
   "source": [
    "# 1. Generate synthetic height data for 30 students (range changed)\n",
    "np.random.seed(10)\n",
    "heights = np.random.randint(155, 185, size=30)"
   ]
  },
  {
   "cell_type": "code",
   "execution_count": null,
   "id": "e2c60cd0-b64f-4d59-81d7-2bdd7d75082b",
   "metadata": {},
   "outputs": [],
   "source": [
    "# 2. Create a DataFrame\n",
    "df = pd.DataFrame(heights, columns=['Height'])"
   ]
  },
  {
   "cell_type": "code",
   "execution_count": null,
   "id": "822bcff2-ce70-45a1-8f10-a43224eb9eb0",
   "metadata": {},
   "outputs": [],
   "source": [
    "# 3. Calculate PMF\n",
    "pmf = df['Height'].value_counts(normalize=True).sort_index()"
   ]
  },
  {
   "cell_type": "code",
   "execution_count": null,
   "id": "c6b308e3-76dc-4bf3-ac1c-461e291104ba",
   "metadata": {},
   "outputs": [],
   "source": [
    "# 4. Calculate CDF\n",
    "cdf = pmf.cumsum()"
   ]
  },
  {
   "cell_type": "code",
   "execution_count": null,
   "id": "c94effcb-4115-4e09-8f67-10a0b8567406",
   "metadata": {},
   "outputs": [],
   "source": [
    "# 5. Plot PMF and CDF\n",
    "plt.figure(figsize=(12, 5))"
   ]
  },
  {
   "cell_type": "code",
   "execution_count": null,
   "id": "909bb18e-bde9-433d-8c64-ffabdef669e3",
   "metadata": {},
   "outputs": [],
   "source": [
    "# PMF plot\n",
    "plt.subplot(1, 2, 1)\n",
    "plt.stem(pmf.index, pmf.values, basefmt=\" \")\n",
    "plt.title('PMF of Student Heights')\n",
    "plt.xlabel('Height (cm)')\n",
    "plt.ylabel('Probability')\n",
    "plt.grid(True)\n",
    "\n",
    "# CDF plot\n",
    "plt.subplot(1, 2, 2)\n",
    "plt.step(cdf.index, cdf.values, where='mid')\n",
    "plt.title('CDF of Student Heights')\n",
    "plt.xlabel('Height (cm)')\n",
    "plt.ylabel('Cumulative Probability')\n",
    "plt.grid(True)\n",
    "\n",
    "plt.tight_layout()\n",
    "plt.show()"
   ]
  }
 ],
 "metadata": {
  "kernelspec": {
   "display_name": "Python 3 (ipykernel)",
   "language": "python",
   "name": "python3"
  },
  "language_info": {
   "codemirror_mode": {
    "name": "ipython",
    "version": 3
   },
   "file_extension": ".py",
   "mimetype": "text/x-python",
   "name": "python",
   "nbconvert_exporter": "python",
   "pygments_lexer": "ipython3",
   "version": "3.13.5"
  }
 },
 "nbformat": 4,
 "nbformat_minor": 5
}
